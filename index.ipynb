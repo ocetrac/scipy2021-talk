{
 "cells": [
  {
   "cell_type": "code",
   "execution_count": 14,
   "id": "identical-costume",
   "metadata": {
    "slideshow": {
     "slide_type": "skip"
    }
   },
   "outputs": [],
   "source": [
    "# !mamba install ocetrac"
   ]
  },
  {
   "cell_type": "markdown",
   "id": "increased-beaver",
   "metadata": {
    "slideshow": {
     "slide_type": "slide"
    }
   },
   "source": [
    "<!-- background: #fff4e3-->\n",
    "<!-- color: #2d2422 -->\n",
    "[![Binder](https://binder.pangeo.io/badge_logo.svg)](https://binder.pangeo.io/v2/gh/hscannell/default-binder/ocetrac?urlpath=git-pull%3Frepo%3Dhttps%253A%252F%252Fgithub.com%252Focetrac%252Fscipy2021-talk%26urlpath%3Dlab%252Ftree%252Fscipy2021-talk%252F%26branch%3Dmain)\n",
    "<div align=\"center\">\n",
    "    <img src=\"./images/ocetrac_logo_transparent.png\" width=300/>\n",
    "    <h4><span style=\"font:tradegothic; color:gray\">Morphological image processing for monitoring ocean temperature extremes</span></h4>\n",
    "    <hr>\n",
    "</div>\n"
   ]
  },
  {
   "cell_type": "markdown",
   "id": "apparent-baghdad",
   "metadata": {
    "slideshow": {
     "slide_type": "fragment"
    }
   },
   "source": [
    "<div align=\"center\">\n",
    "    <h4><span style=\"font:futura; color:purple\">Hillary Scannell<sup>1</sup></span><span style=\"font:futura; style=color:black\">, Luanne Thompson<sup>2</sup>, Daniel Whitt<sup>3</sup>, David John Gagne<sup>4</sup>, Ryan Abernathey<sup>1</sup> & Julius Busecke<sup>1</sup></span></h4>\n",
    "    <h6><span style=\"font:tradegothic; color:gray\"><sup>1</sup>Lamont-Doherty Earth Observatory, Columbia University, Palisades, NY, USA</span></h6>\n",
    "    <h6><span style=\"font:tradegothic; color:gray\"><sup>2</sup>School of Oceanography, University of Washington, Seattle, WA, USA</span></h6>\n",
    "    <h6><span style=\"font:tradegothic; color:gray\"><sup>3</sup>NASA Ames Research Center, Mountain View, CA, USA</span></h6>\n",
    "    <h6><span style=\"font:tradegothic; color:gray\"><sup>4</sup>National Center for Atmospheric Research, Boulder, CO, USA</span></h6>\n",
    "</div>\n",
    "<br>\n",
    "<br>"
   ]
  },
  {
   "cell_type": "markdown",
   "id": "enabling-glossary",
   "metadata": {
    "slideshow": {
     "slide_type": "subslide"
    }
   },
   "source": [
    "<div align=\"center\">\n",
    "    <img src=\"./images/title_footer.png\" width=100%/>\n",
    "</div>\n",
    "<br>"
   ]
  },
  {
   "cell_type": "markdown",
   "id": "alive-lambda",
   "metadata": {
    "slideshow": {
     "slide_type": "subslide"
    }
   },
   "source": [
    "<!-- background: #fff4e3-->\n",
    "<!-- color: #2d2422 -->\n",
    "<div align=\"center\">\n",
    "    <h2>Abstract</h2>\n",
    "     <hr>\n",
    "</div>\n",
    "Dangerous hot-water events, called marine heatwaves, cause prolonged periods of thermal stress in the marine environment that can lead to widespread coral bleaching, harmful algal blooms, unproductive fisheries, and even economic loss. Anticipating the paths of destructive marine heatwaves remains a challenge owing to the complex spatiotemporal evolution of these events. We present a novel open source package called Ocetrac that implements morphological image processing and tracking to aid in the analysis of marine heatwave detection and movement. We discuss how this approach can be applied to monitor other extreme ocean conditions, such as deoxygenation and acidification.\n",
    "<br>"
   ]
  },
  {
   "cell_type": "markdown",
   "id": "secure-score",
   "metadata": {
    "slideshow": {
     "slide_type": "slide"
    }
   },
   "source": [
    "<!-- background: #fff4e3-->\n",
    "<!-- color: #2d2422 -->\n",
    "<div align=\"center\">\n",
    "    <img src=\"./images/warming_trend_space.png\" width=100%/>\n",
    "</div>"
   ]
  },
  {
   "cell_type": "markdown",
   "id": "adaptive-anger",
   "metadata": {
    "slideshow": {
     "slide_type": "subslide"
    }
   },
   "source": [
    "<!-- background: #fff4e3-->\n",
    "<!-- color: #2d2422 -->\n",
    "<div align=\"center\">\n",
    "    <img src=\"./images/trend_as_map.png\" width=100%/>\n",
    "    <h2><span style=\"font:futura; color:black\">Warming is not spatially homogenous</span></h2>\n",
    "</div>"
   ]
  },
  {
   "cell_type": "markdown",
   "id": "german-finger",
   "metadata": {
    "slideshow": {
     "slide_type": "subslide"
    }
   },
   "source": [
    "<!-- background: #fff4e3-->\n",
    "<!-- color: #2d2422 -->\n",
    "<div align=\"center\">\n",
    "    <h2><span style=\"font:futura; color:black\">Many species can cope with natural temperature fluctuations</span></h2>\n",
    "    <img src=\"./images/natural_temp.png\" width=90%/>\n",
    "</div>\n"
   ]
  },
  {
   "cell_type": "markdown",
   "id": "strong-nutrition",
   "metadata": {
    "slideshow": {
     "slide_type": "subslide"
    }
   },
   "source": [
    "<!-- background: #fff4e3-->\n",
    "<!-- color: #2d2422 -->\n",
    "<div align=\"center\">\n",
    "    <img src=\"./images/migratory.png\" width=80%/>\n",
    "</div>\n"
   ]
  },
  {
   "cell_type": "markdown",
   "id": "removable-network",
   "metadata": {
    "slideshow": {
     "slide_type": "subslide"
    }
   },
   "source": [
    "<!-- background: #fff4e3-->\n",
    "<!-- color: #2d2422 -->\n",
    "<div align=\"center\">\n",
    "    <h2><span style=\"font:futura; color:black\">As temperatures rise, heat extremes become more deadly</span></h2>\n",
    "    <img src=\"./images/anthropogenic_temp.png\" width=100%/>\n",
    "</div>\n"
   ]
  },
  {
   "cell_type": "markdown",
   "id": "broke-memorial",
   "metadata": {
    "slideshow": {
     "slide_type": "subslide"
    }
   },
   "source": [
    "<!-- background: #fff4e3-->\n",
    "<!-- color: #2d2422 -->\n",
    "<div align=\"center\">\n",
    "    <img src=\"./images/impacts.png\" width=80%/>\n",
    "</div>\n"
   ]
  },
  {
   "cell_type": "markdown",
   "id": "congressional-bulgaria",
   "metadata": {
    "slideshow": {
     "slide_type": "subslide"
    }
   },
   "source": [
    "<!-- background: #fff4e3-->\n",
    "<!-- color: #2d2422 -->\n",
    "<div align=\"center\">\n",
    "    <h2><span style=\"font:futura; color:black\">We define these hot water events as Marine Heatwaves</span></h2>\n",
    "    <img src=\"./images/mhw_explanation.png\" width=100%/>\n",
    "</div>"
   ]
  },
  {
   "cell_type": "markdown",
   "id": "european-laugh",
   "metadata": {
    "slideshow": {
     "slide_type": "subslide"
    }
   },
   "source": [
    "<!-- background: #fff4e3-->\n",
    "<!-- color: #2d2422 -->\n",
    "<div align=\"center\">\n",
    "    <h2><span style=\"font:futura; color:black\">Marine heatwaves occur throughout the global ocean</span></h2>\n",
    "    <img src=\"./images/Frolicher_Laufkotter.png\" width=100%/>\n",
    "</div>"
   ]
  },
  {
   "cell_type": "code",
   "execution_count": 1,
   "id": "mineral-jersey",
   "metadata": {
    "slideshow": {
     "slide_type": "subslide"
    }
   },
   "outputs": [],
   "source": [
    "import ocetrac"
   ]
  },
  {
   "cell_type": "markdown",
   "id": "union-lodge",
   "metadata": {
    "slideshow": {
     "slide_type": "slide"
    }
   },
   "source": [
    "<!-- background: #fff4e3-->\n",
    "<!-- color: #2d2422 -->\n",
    "<div align=\"center\">\n",
    "    <h2>Motivation & Goals of Ocetrac</h2>\n",
    "     <hr>\n",
    "</div>\n",
    "Motivation – Better understand the spatiotemporal evolution of marine heatwaves\n",
    "\n",
    "Feature Extraction\n",
    "\n",
    "Identify candidate points by eliminating those that do not satisfy a prescribed set of thresholds\n",
    "\n",
    "Object Detection\n",
    "\n",
    "Determine whether a closed contour exists around a cluster of candidate points.\n",
    "Remove small isolated clusters as well as fill small holes within larger clusters.\n",
    "Eliminate closed contour object that do no meet a prescribed size threshold\n",
    "\n",
    "Multiple Object Tracking\n",
    "\n",
    "Stitch connected objects in time, allowing them to split and merge\n",
    "Produce a new labeled dataset of marine heatwaves events\n"
   ]
  },
  {
   "cell_type": "code",
   "execution_count": 2,
   "id": "after-living",
   "metadata": {
    "slideshow": {
     "slide_type": "subslide"
    }
   },
   "outputs": [
    {
     "name": "stdout",
     "output_type": "stream",
     "text": [
      "<xarray.Dataset>\n",
      "Dimensions:  (lat: 720, lon: 1440, time: 14532, zlev: 1)\n",
      "Coordinates:\n",
      "  * lat      (lat) float32 -89.88 -89.62 -89.38 -89.12 ... 89.38 89.62 89.88\n",
      "  * lon      (lon) float32 0.125 0.375 0.625 0.875 ... 359.1 359.4 359.6 359.9\n",
      "  * time     (time) datetime64[ns] 1981-09-01T12:00:00 ... 2021-06-14T12:00:00\n",
      "  * zlev     (zlev) float32 0.0\n",
      "Data variables:\n",
      "    anom     (time, zlev, lat, lon) float32 dask.array<chunksize=(20, 1, 720, 1440), meta=np.ndarray>\n",
      "    err      (time, zlev, lat, lon) float32 dask.array<chunksize=(20, 1, 720, 1440), meta=np.ndarray>\n",
      "    ice      (time, zlev, lat, lon) float32 dask.array<chunksize=(20, 1, 720, 1440), meta=np.ndarray>\n",
      "    sst      (time, zlev, lat, lon) float32 dask.array<chunksize=(20, 1, 720, 1440), meta=np.ndarray>\n",
      "Attributes:\n",
      "    Conventions:                CF-1.6, ACDD-1.3\n",
      "    cdm_data_type:              Grid\n",
      "    comment:                    Data was converted from NetCDF-3 to NetCDF-4 ...\n",
      "    creator_email:              oisst-help@noaa.gov\n",
      "    creator_url:                https://www.ncei.noaa.gov/\n",
      "    date_created:               2020-05-08T19:05:13Z\n",
      "    date_modified:              2020-05-08T19:05:13Z\n",
      "    geospatial_lat_max:         90.0\n",
      "    geospatial_lat_min:         -90.0\n",
      "    geospatial_lat_resolution:  0.25\n",
      "    geospatial_lat_units:       degrees_north\n",
      "    geospatial_lon_max:         360.0\n",
      "    geospatial_lon_min:         0.0\n",
      "    geospatial_lon_resolution:  0.25\n",
      "    geospatial_lon_units:       degrees_east\n",
      "    history:                    Final file created using preliminary as first...\n",
      "    id:                         oisst-avhrr-v02r01.19810901.nc\n",
      "    institution:                NOAA/National Centers for Environmental Infor...\n",
      "    instrument:                 Earth Remote Sensing Instruments > Passive Re...\n",
      "    instrument_vocabulary:      Global Change Master Directory (GCMD) Instrum...\n",
      "    keywords:                   Earth Science > Oceans > Ocean Temperature > ...\n",
      "    keywords_vocabulary:        Global Change Master Directory (GCMD) Earth S...\n",
      "    metadata_link:              https://doi.org/10.25921/RE9P-PT57\n",
      "    naming_authority:           gov.noaa.ncei\n",
      "    ncei_template_version:      NCEI_NetCDF_Grid_Template_v2.0\n",
      "    platform:                   Ships, buoys, Argo floats, MetOp-A, MetOp-B\n",
      "    platform_vocabulary:        Global Change Master Directory (GCMD) Platfor...\n",
      "    processing_level:           NOAA Level 4\n",
      "    product_version:            Version v02r01\n",
      "    references:                 Reynolds, et al.(2007) Daily High-Resolution-...\n",
      "    sensor:                     Thermometer, AVHRR\n",
      "    source:                     ICOADS, NCEP_GTS, GSFC_ICE, NCEP_ICE, Pathfin...\n",
      "    standard_name_vocabulary:   CF Standard Name Table (v40, 25 January 2017)\n",
      "    summary:                    NOAAs 1/4-degree Daily Optimum Interpolation ...\n",
      "    time_coverage_end:          1981-09-01T23:59:59Z\n",
      "    time_coverage_start:        1981-09-01T00:00:00Z\n",
      "    title:                      NOAA/NCEI 1/4 Degree Daily Optimum Interpolat...\n"
     ]
    }
   ],
   "source": [
    "import xarray as xr\n",
    "import s3fs\n",
    "\n",
    "endpoint_url = 'https://ncsa.osn.xsede.org'\n",
    "fs_osn = s3fs.S3FileSystem(anon=True, client_kwargs={'endpoint_url': endpoint_url},) # Data is on Pangeo - Amazon S3 cloud storage\n",
    "\n",
    "path = \"Pangeo/pangeo-forge/noaa_oisst/v2.1-avhrr.zarr\"\n",
    "ds = xr.open_zarr(fs_osn.get_mapper(path), consolidated=True)\n",
    "print(ds)"
   ]
  },
  {
   "cell_type": "code",
   "execution_count": 3,
   "id": "labeled-leave",
   "metadata": {},
   "outputs": [
    {
     "data": {
      "application/vnd.jupyter.widget-view+json": {
       "model_id": "bd798062ba104a67ad056a24743ca358",
       "version_major": 2,
       "version_minor": 0
      },
      "text/plain": [
       "VBox(children=(HTML(value='<h2>GatewayCluster</h2>'), HBox(children=(HTML(value='\\n<div>\\n<style scoped>\\n    …"
      ]
     },
     "metadata": {},
     "output_type": "display_data"
    }
   ],
   "source": [
    "from dask_gateway import Gateway\n",
    "from dask.distributed import Client\n",
    "\n",
    "gateway = Gateway()\n",
    "cluster = gateway.new_cluster()\n",
    "cluster.adapt(minimum=1, maximum=20)\n",
    "cluster\n"
   ]
  },
  {
   "cell_type": "code",
   "execution_count": 4,
   "id": "reserved-living",
   "metadata": {},
   "outputs": [
    {
     "data": {
      "text/html": [
       "<table style=\"border: 2px solid white;\">\n",
       "<tr>\n",
       "<td style=\"vertical-align: top; border: 0px solid white\">\n",
       "<h3 style=\"text-align: left;\">Client</h3>\n",
       "<ul style=\"text-align: left; list-style: none; margin: 0; padding: 0;\">\n",
       "  <li><b>Scheduler: </b>gateway://traefik-gcp-uscentral1b-prod-dask-gateway.prod:80/prod.d919e3a8588d4baca6c43a389dfaa019</li>\n",
       "  <li><b>Dashboard: </b><a href='/services/dask-gateway/clusters/prod.d919e3a8588d4baca6c43a389dfaa019/status' target='_blank'>/services/dask-gateway/clusters/prod.d919e3a8588d4baca6c43a389dfaa019/status</a></li>\n",
       "</ul>\n",
       "</td>\n",
       "<td style=\"vertical-align: top; border: 0px solid white\">\n",
       "<h3 style=\"text-align: left;\">Cluster</h3>\n",
       "<ul style=\"text-align: left; list-style:none; margin: 0; padding: 0;\">\n",
       "  <li><b>Workers: </b>0</li>\n",
       "  <li><b>Cores: </b>0</li>\n",
       "  <li><b>Memory: </b>0 B</li>\n",
       "</ul>\n",
       "</td>\n",
       "</tr>\n",
       "</table>"
      ],
      "text/plain": [
       "<Client: 'tls://10.36.43.77:8786' processes=0 threads=0, memory=0 B>"
      ]
     },
     "execution_count": 4,
     "metadata": {},
     "output_type": "execute_result"
    }
   ],
   "source": [
    "client = Client(cluster)\n",
    "client"
   ]
  },
  {
   "cell_type": "code",
   "execution_count": 10,
   "id": "green-mandate",
   "metadata": {},
   "outputs": [],
   "source": [
    "sst_timeseries = ds.sst.mean(dim=('lat','lon')).load()"
   ]
  },
  {
   "cell_type": "code",
   "execution_count": 11,
   "id": "processed-career",
   "metadata": {},
   "outputs": [
    {
     "data": {
      "text/plain": [
       "[<matplotlib.lines.Line2D at 0x7f19ca13be80>]"
      ]
     },
     "execution_count": 11,
     "metadata": {},
     "output_type": "execute_result"
    },
    {
     "data": {
      "image/png": "[encoded data removed]",
      "text/plain": [
       "<Figure size 432x288 with 1 Axes>"
      ]
     },
     "metadata": {
      "needs_background": "light"
     },
     "output_type": "display_data"
    }
   ],
   "source": [
    "sst_timeseries.plot()"
   ]
  },
  {
   "cell_type": "code",
   "execution_count": 9,
   "id": "confident-macintosh",
   "metadata": {
    "slideshow": {
     "slide_type": "slide"
    }
   },
   "outputs": [
    {
     "name": "stderr",
     "output_type": "stream",
     "text": [
      "<ipython-input-9-b307499041fc>:13: DeprecationWarning: The background_patch property is deprecated. Use GeoAxes.patch instead.\n",
      "  ax.background_patch.set_visible(False)\n"
     ]
    },
    {
     "data": {
      "image/png": "[encoded data removed]",
      "text/plain": [
       "<Figure size 864x864 with 1 Axes>"
      ]
     },
     "metadata": {
      "needs_background": "light"
     },
     "output_type": "display_data"
    }
   ],
   "source": [
    "import matplotlib.pyplot as plt\n",
    "import cartopy.crs as ccrs\n",
    "import cartopy.feature as cfeature\n",
    "\n",
    "# Define a mask\n",
    "mask = ds.sst.isel(time=0, zlev=0).fillna(-999)\n",
    "mask = mask.where(mask==-999, other = 1)\n",
    "mask = mask.where(mask==1, other = 0)\n",
    "\n",
    "plt.figure(figsize=(12,12))\n",
    "ax = plt.axes(projection=ccrs.PlateCarree())\n",
    "mask.plot(transform=ccrs.PlateCarree(), vmin=0, vmax=1, cmap='Greys_r', extend='max', add_colorbar=False, label=False)\n",
    "ax.set_title('')\n",
    "ax.background_patch.set_visible(False)"
   ]
  },
  {
   "cell_type": "code",
   "execution_count": null,
   "id": "promotional-bibliography",
   "metadata": {},
   "outputs": [],
   "source": []
  }
 ],
 "metadata": {
  "kernelspec": {
   "display_name": "Python [conda env:notebook] *",
   "language": "python",
   "name": "conda-env-notebook-py"
  },
  "language_info": {
   "codemirror_mode": {
    "name": "ipython",
    "version": 3
   },
   "file_extension": ".py",
   "mimetype": "text/x-python",
   "name": "python",
   "nbconvert_exporter": "python",
   "pygments_lexer": "ipython3",
   "version": "3.8.6"
  }
 },
 "nbformat": 4,
 "nbformat_minor": 5
}
