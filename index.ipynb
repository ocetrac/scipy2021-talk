{
 "cells": [
  {
   "cell_type": "code",
   "execution_count": 1,
   "id": "right-albany",
   "metadata": {},
   "outputs": [],
   "source": [
    "%load_ext autoreload\n",
    "%autoreload 2"
   ]
  },
  {
   "cell_type": "markdown",
   "id": "waiting-heating",
   "metadata": {
    "slideshow": {
     "slide_type": "slide"
    }
   },
   "source": [
    "# Ocetrac: morphological image processing for monitoring ocean temperature extremes\n",
    "\n",
    "____\n",
    "\n",
    "By Hillary Scannell"
   ]
  },
  {
   "cell_type": "markdown",
   "id": "aggressive-prime",
   "metadata": {
    "slideshow": {
     "slide_type": "subslide"
    }
   },
   "source": [
    "## Overview\n",
    "\n",
    "Dangerous hot-water events, called marine heatwaves, cause prolonged periods of thermal stress in the marine environment that can lead to widespread coral bleaching, harmful algal blooms, unproductive fisheries, and even economic loss. Anticipating the paths of destructive marine heatwaves remains a challenge owing to the complex spatiotemporal evolution of these events. We present a novel open source package called Ocetrac that implements morphological image processing and tracking to aid in the analysis of marine heatwave detection and movement. We discuss how this approach can be applied to monitor other extreme ocean conditions, such as deoxygenation and acidification.\n"
   ]
  },
  {
   "cell_type": "code",
   "execution_count": 2,
   "id": "killing-commitment",
   "metadata": {},
   "outputs": [],
   "source": [
    "import cartopy.crs as ccrs\n",
    "import cartopy.feature as cfeature\n",
    "import numpy as np\n",
    "import matplotlib.pyplot as plt\n",
    "import s3fs\n",
    "import xarray as xr\n",
    "import scipy.ndimage\n",
    "from skimage.measure import regionprops \n",
    "from skimage.measure import label as label_np\n",
    "import dask.array as dsa"
   ]
  },
  {
   "cell_type": "code",
   "execution_count": 3,
   "id": "public-disorder",
   "metadata": {
    "slideshow": {
     "slide_type": "slide"
    }
   },
   "outputs": [
    {
     "name": "stdout",
     "output_type": "stream",
     "text": [
      "<xarray.Dataset>\n",
      "Dimensions:  (lat: 720, lon: 1440, time: 14532, zlev: 1)\n",
      "Coordinates:\n",
      "  * lat      (lat) float32 -89.88 -89.62 -89.38 -89.12 ... 89.38 89.62 89.88\n",
      "  * lon      (lon) float32 0.125 0.375 0.625 0.875 ... 359.1 359.4 359.6 359.9\n",
      "  * time     (time) datetime64[ns] 1981-09-01T12:00:00 ... 2021-06-14T12:00:00\n",
      "  * zlev     (zlev) float32 0.0\n",
      "Data variables:\n",
      "    anom     (time, zlev, lat, lon) float32 dask.array<chunksize=(20, 1, 720, 1440), meta=np.ndarray>\n",
      "    err      (time, zlev, lat, lon) float32 dask.array<chunksize=(20, 1, 720, 1440), meta=np.ndarray>\n",
      "    ice      (time, zlev, lat, lon) float32 dask.array<chunksize=(20, 1, 720, 1440), meta=np.ndarray>\n",
      "    sst      (time, zlev, lat, lon) float32 dask.array<chunksize=(20, 1, 720, 1440), meta=np.ndarray>\n",
      "Attributes: (12/37)\n",
      "    Conventions:                CF-1.6, ACDD-1.3\n",
      "    cdm_data_type:              Grid\n",
      "    comment:                    Data was converted from NetCDF-3 to NetCDF-4 ...\n",
      "    creator_email:              oisst-help@noaa.gov\n",
      "    creator_url:                https://www.ncei.noaa.gov/\n",
      "    date_created:               2020-05-08T19:05:13Z\n",
      "    ...                         ...\n",
      "    source:                     ICOADS, NCEP_GTS, GSFC_ICE, NCEP_ICE, Pathfin...\n",
      "    standard_name_vocabulary:   CF Standard Name Table (v40, 25 January 2017)\n",
      "    summary:                    NOAAs 1/4-degree Daily Optimum Interpolation ...\n",
      "    time_coverage_end:          1981-09-01T23:59:59Z\n",
      "    time_coverage_start:        1981-09-01T00:00:00Z\n",
      "    title:                      NOAA/NCEI 1/4 Degree Daily Optimum Interpolat...\n"
     ]
    }
   ],
   "source": [
    "endpoint_url = 'https://ncsa.osn.xsede.org'\n",
    "fs_osn = s3fs.S3FileSystem(anon=True, client_kwargs={'endpoint_url': endpoint_url},)\n",
    "\n",
    "path = \"Pangeo/pangeo-forge/noaa_oisst/v2.1-avhrr.zarr\"\n",
    "ds = xr.open_zarr(fs_osn.get_mapper(path), consolidated=True)\n",
    "print(ds)"
   ]
  },
  {
   "cell_type": "code",
   "execution_count": 6,
   "id": "rural-pickup",
   "metadata": {
    "slideshow": {
     "slide_type": "slide"
    }
   },
   "outputs": [
    {
     "name": "stderr",
     "output_type": "stream",
     "text": [
      "/tmp/ipykernel_8224/2367621144.py:10: DeprecationWarning: The background_patch property is deprecated. Use GeoAxes.patch instead.\n",
      "  ax.background_patch.set_visible(False)\n"
     ]
    },
    {
     "data": {
      "image/png": "[encoded data removed]",
      "text/plain": [
       "<Figure size 864x864 with 1 Axes>"
      ]
     },
     "metadata": {
      "needs_background": "light"
     },
     "output_type": "display_data"
    }
   ],
   "source": [
    "# Define a mask\n",
    "mask = ds.sst.isel(time=0, zlev=0).fillna(-999)\n",
    "mask = mask.where(mask==-999, other = 1)\n",
    "mask = mask.where(mask==1, other = 0)\n",
    "\n",
    "plt.figure(figsize=(12,12))\n",
    "ax = plt.axes(projection=ccrs.PlateCarree())\n",
    "mask.plot(transform=ccrs.PlateCarree(), vmin=0, vmax=1, cmap='Greys_r', extend='max', add_colorbar=False, label=False)\n",
    "ax.set_title('')\n",
    "ax.background_patch.set_visible(False)"
   ]
  },
  {
   "cell_type": "code",
   "execution_count": null,
   "id": "light-reliance",
   "metadata": {},
   "outputs": [],
   "source": []
  }
 ],
 "metadata": {
  "kernelspec": {
   "display_name": "Python [conda env:ocetrac-scipy-2021]",
   "language": "python",
   "name": "conda-env-ocetrac-scipy-2021-py"
  },
  "language_info": {
   "codemirror_mode": {
    "name": "ipython",
    "version": 3
   },
   "file_extension": ".py",
   "mimetype": "text/x-python",
   "name": "python",
   "nbconvert_exporter": "python",
   "pygments_lexer": "ipython3",
   "version": "3.8.10"
  }
 },
 "nbformat": 4,
 "nbformat_minor": 5
}
