{
 "cells": [
  {
   "cell_type": "markdown",
   "id": "sapphire-label",
   "metadata": {
    "slideshow": {
     "slide_type": "slide"
    }
   },
   "source": [
    "<!-- background: #fff4e3-->\n",
    "<!-- color: #2d2422 -->\n",
    "<div align=\"center\">\n",
    "    <img src=\"./images/ocetrac_logo_transparent.png\" width=300/>\n",
    "    <h3><span style=\"font:tradegothic; color:gray\">Morphological image processing for monitoring ocean temperature extremes</span></h3>\n",
    "    <hr>\n",
    "</div>\n"
   ]
  },
  {
   "cell_type": "markdown",
   "id": "surgical-fleece",
   "metadata": {
    "slideshow": {
     "slide_type": "fragment"
    }
   },
   "source": [
    "<div align=\"center\">\n",
    "    <h4><span style=\"font:futura; color:purple\">Hillary Scannell<sup>1</sup></span><span style=\"font:futura; style=color:black\">, Luanne Thompson<sup>2</sup>, Daniel Whitt<sup>3</sup>, David John Gagne<sup>4</sup>, Ryan Abernathey<sup>1</sup> & Julius Busecke<sup>1</sup></span></h4>\n",
    "    <h6><span style=\"font:tradegothic; color:gray\"><sup>1</sup>Lamont-Doherty Earth Observatory, Columbia University, Palisades, NY, USA</span></h6>\n",
    "    <h6><span style=\"font:tradegothic; color:gray\"><sup>2</sup>School of Oceanography, University of Washington, Seattle, WA, USA</span></h6>\n",
    "    <h6><span style=\"font:tradegothic; color:gray\"><sup>3</sup>NASA Ames Research Center, Mountain View, CA, USA</span></h6>\n",
    "    <h6><span style=\"font:tradegothic; color:gray\"><sup>4</sup>National Center for Atmospheric Research, Boulder, CO, USA</span></h6>\n",
    "</div>\n",
    "<br>\n",
    "<br>"
   ]
  },
  {
   "cell_type": "markdown",
   "id": "irish-transition",
   "metadata": {
    "slideshow": {
     "slide_type": "subslide"
    }
   },
   "source": [
    "<div align=\"center\">\n",
    "    <img src=\"./images/title_footer.png\" width=100%/>\n",
    "</div>\n",
    "<br>"
   ]
  },
  {
   "cell_type": "markdown",
   "id": "electoral-roads",
   "metadata": {
    "slideshow": {
     "slide_type": "subslide"
    }
   },
   "source": [
    "<!-- background: #fff4e3-->\n",
    "<!-- color: #2d2422 -->\n",
    "<div align=\"center\">\n",
    "    <h2>Abstract</h2>\n",
    "     <hr>\n",
    "</div>\n",
    "Dangerous hot-water events, called marine heatwaves, cause prolonged periods of thermal stress in the marine environment that can lead to widespread coral bleaching, harmful algal blooms, unproductive fisheries, and even economic loss. Anticipating the paths of destructive marine heatwaves remains a challenge owing to the complex spatiotemporal evolution of these events. We present a novel open source package called Ocetrac that implements morphological image processing and tracking to aid in the analysis of marine heatwave detection and movement. We discuss how this approach can be applied to monitor other extreme ocean conditions, such as deoxygenation and acidification.\n",
    "<br>"
   ]
  },
  {
   "cell_type": "markdown",
   "id": "small-performer",
   "metadata": {
    "slideshow": {
     "slide_type": "slide"
    }
   },
   "source": [
    "<!-- background: #fff4e3-->\n",
    "<!-- color: #2d2422 -->\n",
    "<div align=\"center\">\n",
    "    <img src=\"./images/warming_trend_space.png\" width=100%/>\n",
    "</div>"
   ]
  },
  {
   "cell_type": "markdown",
   "id": "interim-backup",
   "metadata": {
    "slideshow": {
     "slide_type": "subslide"
    }
   },
   "source": [
    "<!-- background: #fff4e3-->\n",
    "<!-- color: #2d2422 -->\n",
    "<div align=\"center\">\n",
    "    <img src=\"./images/trend_as_map.png\" width=100%/>\n",
    "    <h2><span style=\"font:futura; color:black\">Warming is not spatially homogenous</span></h2>\n",
    "</div>"
   ]
  },
  {
   "cell_type": "markdown",
   "id": "dietary-resource",
   "metadata": {
    "slideshow": {
     "slide_type": "subslide"
    }
   },
   "source": [
    "<!-- background: #fff4e3-->\n",
    "<!-- color: #2d2422 -->\n",
    "<div align=\"center\">\n",
    "    <h2><span style=\"font:futura; color:black\">Many species can cope with natural temperature fluctuations</span></h2>\n",
    "    <img src=\"./images/natural_temp.png\" width=100%/>\n",
    "</div>"
   ]
  },
  {
   "cell_type": "markdown",
   "id": "cultural-yugoslavia",
   "metadata": {
    "slideshow": {
     "slide_type": "subslide"
    }
   },
   "source": [
    "<!-- background: #fff4e3-->\n",
    "<!-- color: #2d2422 -->\n",
    "<div align=\"center\">\n",
    "    <h2><span style=\"font:futura; color:black\">As temperatures rise, heat extremes become more deadly</span></h2>\n",
    "    <img src=\"./images/anthropogenic_temp.png\" width=100%/>\n",
    "</div>"
   ]
  },
  {
   "cell_type": "markdown",
   "id": "composed-analysis",
   "metadata": {
    "slideshow": {
     "slide_type": "subslide"
    }
   },
   "source": [
    "<!-- background: #fff4e3-->\n",
    "<!-- color: #2d2422 -->\n",
    "<div align=\"center\">\n",
    "    <h2><span style=\"font:futura; color:black\">We define these hot water events as Marine Heatwaves</span></h2>\n",
    "    <img src=\"./images/mhw_explanation.png\" width=100%/>\n",
    "</div>"
   ]
  },
  {
   "cell_type": "markdown",
   "id": "velvet-casting",
   "metadata": {},
   "source": [
    "<!-- background: #fff4e3-->\n",
    "<!-- color: #2d2422 -->\n",
    "<div align=\"center\">\n",
    "    <h2><span style=\"font:futura; color:black\">Marine heatwaves occur throughout the global ocean</span></h2>\n",
    "    <img src=\"./images/Frolicher_Laufkotter.png\" width=100%/>\n",
    "</div>"
   ]
  },
  {
   "cell_type": "markdown",
   "id": "appropriate-reset",
   "metadata": {
    "slideshow": {
     "slide_type": "slide"
    }
   },
   "source": [
    "<!-- background: #fff4e3-->\n",
    "<!-- color: #2d2422 -->\n",
    "<div align=\"left\">\n",
    "    <h2>Sea Surface Temperature Data</h2>\n",
    "     <hr>\n",
    "    \n",
    "</div>"
   ]
  },
  {
   "cell_type": "code",
   "execution_count": null,
   "id": "oriental-watts",
   "metadata": {
    "slideshow": {
     "slide_type": "subslide"
    }
   },
   "outputs": [],
   "source": [
    "import xarray as xr\n",
    "import s3fs\n",
    "\n",
    "endpoint_url = 'https://ncsa.osn.xsede.org'\n",
    "fs_osn = s3fs.S3FileSystem(anon=True, client_kwargs={'endpoint_url': endpoint_url},) # Data is on Pangeo - Amazon S3 cloud storage\n",
    "\n",
    "path = \"Pangeo/pangeo-forge/noaa_oisst/v2.1-avhrr.zarr\"\n",
    "ds = xr.open_zarr(fs_osn.get_mapper(path), consolidated=True)\n",
    "print(ds)"
   ]
  },
  {
   "cell_type": "code",
   "execution_count": null,
   "id": "pointed-tampa",
   "metadata": {
    "slideshow": {
     "slide_type": "slide"
    }
   },
   "outputs": [],
   "source": [
    "# Define a mask\n",
    "mask = ds.sst.isel(time=0, zlev=0).fillna(-999)\n",
    "mask = mask.where(mask==-999, other = 1)\n",
    "mask = mask.where(mask==1, other = 0)\n",
    "\n",
    "plt.figure(figsize=(12,12))\n",
    "ax = plt.axes(projection=ccrs.PlateCarree())\n",
    "mask.plot(transform=ccrs.PlateCarree(), vmin=0, vmax=1, cmap='Greys_r', extend='max', add_colorbar=False, label=False)\n",
    "ax.set_title('')\n",
    "ax.background_patch.set_visible(False)"
   ]
  }
 ],
 "metadata": {
  "kernelspec": {
   "display_name": "ocetrac-scipy-2021",
   "language": "python",
   "name": "ocetrac-scipy-2021"
  },
  "language_info": {
   "codemirror_mode": {
    "name": "ipython",
    "version": 3
   },
   "file_extension": ".py",
   "mimetype": "text/x-python",
   "name": "python",
   "nbconvert_exporter": "python",
   "pygments_lexer": "ipython3",
   "version": "3.8.10"
  }
 },
 "nbformat": 4,
 "nbformat_minor": 5
}
