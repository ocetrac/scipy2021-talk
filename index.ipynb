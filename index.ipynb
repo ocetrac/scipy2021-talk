{
 "cells": [
  {
   "cell_type": "code",
   "execution_count": 1,
   "id": "looking-quick",
   "metadata": {
    "slideshow": {
     "slide_type": "skip"
    }
   },
   "outputs": [],
   "source": [
    "# from notebook.services.config import ConfigManager\n",
    "# cm = ConfigManager()\n",
    "\n",
    "# cm.update('livereveal', {\n",
    "#               'width': 1000,\n",
    "#               'height': 600,\n",
    "#               'scroll': True,\n",
    "#               'slideNumber': 'c/t'\n",
    "# });"
   ]
  },
  {
   "cell_type": "markdown",
   "id": "realistic-aruba",
   "metadata": {
    "slideshow": {
     "slide_type": "slide"
    }
   },
   "source": [
    "<!-- background: #fff4e3-->\n",
    "<!-- color: #2d2422 -->\n",
    "<div align=\"center\">\n",
    "    <img src=\"./images/ocetrac_logo_transparent.png\" width=300/>\n",
    "    <h4><span style=\"font:tradegothic; color:gray\">Morphological image processing for monitoring ocean temperature extremes</span></h4>\n",
    "    <hr>\n",
    "</div>\n"
   ]
  },
  {
   "cell_type": "markdown",
   "id": "convenient-verification",
   "metadata": {
    "slideshow": {
     "slide_type": "fragment"
    }
   },
   "source": [
    "<div align=\"center\">\n",
    "    <h4><span style=\"font:futura; color:purple\">Hillary Scannell<sup>1</sup></span><span style=\"font:futura; style=color:black\">, Luanne Thompson<sup>2</sup>, Daniel Whitt<sup>3</sup>, David John Gagne<sup>4</sup>, Ryan Abernathey<sup>1</sup> & Julius Busecke<sup>1</sup></span></h4>\n",
    "    <h6><span style=\"font:tradegothic; color:gray\"><sup>1</sup>Lamont-Doherty Earth Observatory, Columbia University, Palisades, NY, USA</span></h6>\n",
    "    <h6><span style=\"font:tradegothic; color:gray\"><sup>2</sup>School of Oceanography, University of Washington, Seattle, WA, USA</span></h6>\n",
    "    <h6><span style=\"font:tradegothic; color:gray\"><sup>3</sup>NASA Ames Research Center, Mountain View, CA, USA</span></h6>\n",
    "    <h6><span style=\"font:tradegothic; color:gray\"><sup>4</sup>National Center for Atmospheric Research, Boulder, CO, USA</span></h6>\n",
    "</div>\n",
    "<br>\n",
    "<br>"
   ]
  },
  {
   "cell_type": "markdown",
   "id": "heavy-latvia",
   "metadata": {
    "slideshow": {
     "slide_type": "subslide"
    }
   },
   "source": [
    "<div align=\"center\">\n",
    "    <img src=\"./images/title_footer.png\" width=100%/>\n",
    "</div>\n",
    "<br>"
   ]
  },
  {
   "cell_type": "markdown",
   "id": "owned-somewhere",
   "metadata": {
    "slideshow": {
     "slide_type": "subslide"
    }
   },
   "source": [
    "<!-- background: #fff4e3-->\n",
    "<!-- color: #2d2422 -->\n",
    "<div align=\"center\">\n",
    "    <h2>Abstract</h2>\n",
    "     <hr>\n",
    "</div>\n",
    "Dangerous hot-water events, called marine heatwaves, cause prolonged periods of thermal stress in the marine environment that can lead to widespread coral bleaching, harmful algal blooms, unproductive fisheries, and even economic loss. Anticipating the paths of destructive marine heatwaves remains a challenge owing to the complex spatiotemporal evolution of these events. We present a novel open source package called Ocetrac that implements morphological image processing and tracking to aid in the analysis of marine heatwave detection and movement. We discuss how this approach can be applied to monitor other extreme ocean conditions, such as deoxygenation and acidification.\n",
    "<br>"
   ]
  },
  {
   "cell_type": "markdown",
   "id": "massive-eclipse",
   "metadata": {
    "slideshow": {
     "slide_type": "slide"
    }
   },
   "source": [
    "<!-- background: #fff4e3-->\n",
    "<!-- color: #2d2422 -->\n",
    "<div align=\"center\">\n",
    "    <img src=\"./images/warming_trend_space.png\" width=100%/>\n",
    "</div>"
   ]
  },
  {
   "cell_type": "markdown",
   "id": "adjacent-desert",
   "metadata": {
    "slideshow": {
     "slide_type": "subslide"
    }
   },
   "source": [
    "<!-- background: #fff4e3-->\n",
    "<!-- color: #2d2422 -->\n",
    "<div align=\"center\">\n",
    "    <img src=\"./images/trend_as_map.png\" width=100%/>\n",
    "    <h2><span style=\"font:futura; color:black\">Warming is not spatially homogenous</span></h2>\n",
    "</div>"
   ]
  },
  {
   "cell_type": "markdown",
   "id": "selective-storm",
   "metadata": {
    "slideshow": {
     "slide_type": "subslide"
    }
   },
   "source": [
    "<!-- background: #fff4e3-->\n",
    "<!-- color: #2d2422 -->\n",
    "<div align=\"center\">\n",
    "    <h2><span style=\"font:futura; color:black\">Many species can cope with natural temperature fluctuations</span></h2>\n",
    "    <img src=\"./images/natural_temp.png\" width=90%/>\n",
    "</div>\n"
   ]
  },
  {
   "cell_type": "markdown",
   "id": "awful-astronomy",
   "metadata": {
    "slideshow": {
     "slide_type": "subslide"
    }
   },
   "source": [
    "<!-- background: #fff4e3-->\n",
    "<!-- color: #2d2422 -->\n",
    "<div align=\"center\">\n",
    "    <img src=\"./images/migratory.png\" width=80%/>\n",
    "</div>\n"
   ]
  },
  {
   "cell_type": "markdown",
   "id": "prescribed-capability",
   "metadata": {
    "slideshow": {
     "slide_type": "subslide"
    }
   },
   "source": [
    "<!-- background: #fff4e3-->\n",
    "<!-- color: #2d2422 -->\n",
    "<div align=\"center\">\n",
    "    <h2><span style=\"font:futura; color:black\">As temperatures rise, heat extremes become more deadly</span></h2>\n",
    "    <img src=\"./images/anthropogenic_temp.png\" width=100%/>\n",
    "</div>\n"
   ]
  },
  {
   "cell_type": "markdown",
   "id": "organized-sleep",
   "metadata": {
    "slideshow": {
     "slide_type": "subslide"
    }
   },
   "source": [
    "<!-- background: #fff4e3-->\n",
    "<!-- color: #2d2422 -->\n",
    "<div align=\"center\">\n",
    "    <img src=\"./images/impacts.png\" width=80%/>\n",
    "</div>\n"
   ]
  },
  {
   "cell_type": "markdown",
   "id": "complicated-demonstration",
   "metadata": {
    "slideshow": {
     "slide_type": "subslide"
    }
   },
   "source": [
    "<!-- background: #fff4e3-->\n",
    "<!-- color: #2d2422 -->\n",
    "<div align=\"center\">\n",
    "    <h2><span style=\"font:futura; color:black\">We define these hot water events as Marine Heatwaves</span></h2>\n",
    "    <img src=\"./images/mhw_explanation.png\" width=100%/>\n",
    "</div>"
   ]
  },
  {
   "cell_type": "markdown",
   "id": "ahead-wisconsin",
   "metadata": {
    "slideshow": {
     "slide_type": "subslide"
    }
   },
   "source": [
    "<!-- background: #fff4e3-->\n",
    "<!-- color: #2d2422 -->\n",
    "<div align=\"center\">\n",
    "    <h2><span style=\"font:futura; color:black\">Marine heatwaves occur throughout the global ocean</span></h2>\n",
    "    <img src=\"./images/Frolicher_Laufkotter.png\" width=100%/>\n",
    "</div>"
   ]
  },
  {
   "cell_type": "code",
   "execution_count": 2,
   "id": "charged-thought",
   "metadata": {
    "slideshow": {
     "slide_type": "subslide"
    }
   },
   "outputs": [],
   "source": [
    "import ocetrac"
   ]
  },
  {
   "cell_type": "markdown",
   "id": "local-zambia",
   "metadata": {
    "slideshow": {
     "slide_type": "slide"
    }
   },
   "source": [
    "<!-- background: #fff4e3-->\n",
    "<!-- color: #2d2422 -->\n",
    "<div align=\"center\">\n",
    "    <h2>Motivation & Goals of Ocetrac</h2>\n",
    "     <hr>\n",
    "</div>\n",
    "Motivation – Better understand the spatiotemporal evolution of marine heatwaves\n",
    "\n",
    "Feature Extraction\n",
    "\n",
    "Identify candidate points by eliminating those that do not satisfy a prescribed set of thresholds\n",
    "\n",
    "Object Detection\n",
    "\n",
    "Determine whether a closed contour exists around a cluster of candidate points.\n",
    "Remove small isolated clusters as well as fill small holes within larger clusters.\n",
    "Eliminate closed contour object that do no meet a prescribed size threshold\n",
    "\n",
    "Multiple Object Tracking\n",
    "\n",
    "Stitch connected objects in time, allowing them to split and merge\n",
    "Produce a new labeled dataset of marine heatwaves events\n"
   ]
  },
  {
   "cell_type": "code",
   "execution_count": 3,
   "id": "domestic-facing",
   "metadata": {
    "slideshow": {
     "slide_type": "subslide"
    }
   },
   "outputs": [
    {
     "name": "stdout",
     "output_type": "stream",
     "text": [
      "<xarray.Dataset>\n",
      "Dimensions:  (lat: 720, lon: 1440, time: 14532, zlev: 1)\n",
      "Coordinates:\n",
      "  * lat      (lat) float32 -89.88 -89.62 -89.38 -89.12 ... 89.38 89.62 89.88\n",
      "  * lon      (lon) float32 0.125 0.375 0.625 0.875 ... 359.1 359.4 359.6 359.9\n",
      "  * time     (time) datetime64[ns] 1981-09-01T12:00:00 ... 2021-06-14T12:00:00\n",
      "  * zlev     (zlev) float32 0.0\n",
      "Data variables:\n",
      "    anom     (time, zlev, lat, lon) float32 dask.array<chunksize=(20, 1, 720, 1440), meta=np.ndarray>\n",
      "    err      (time, zlev, lat, lon) float32 dask.array<chunksize=(20, 1, 720, 1440), meta=np.ndarray>\n",
      "    ice      (time, zlev, lat, lon) float32 dask.array<chunksize=(20, 1, 720, 1440), meta=np.ndarray>\n",
      "    sst      (time, zlev, lat, lon) float32 dask.array<chunksize=(20, 1, 720, 1440), meta=np.ndarray>\n",
      "Attributes: (12/37)\n",
      "    Conventions:                CF-1.6, ACDD-1.3\n",
      "    cdm_data_type:              Grid\n",
      "    comment:                    Data was converted from NetCDF-3 to NetCDF-4 ...\n",
      "    creator_email:              oisst-help@noaa.gov\n",
      "    creator_url:                https://www.ncei.noaa.gov/\n",
      "    date_created:               2020-05-08T19:05:13Z\n",
      "    ...                         ...\n",
      "    source:                     ICOADS, NCEP_GTS, GSFC_ICE, NCEP_ICE, Pathfin...\n",
      "    standard_name_vocabulary:   CF Standard Name Table (v40, 25 January 2017)\n",
      "    summary:                    NOAAs 1/4-degree Daily Optimum Interpolation ...\n",
      "    time_coverage_end:          1981-09-01T23:59:59Z\n",
      "    time_coverage_start:        1981-09-01T00:00:00Z\n",
      "    title:                      NOAA/NCEI 1/4 Degree Daily Optimum Interpolat...\n"
     ]
    }
   ],
   "source": [
    "import xarray as xr\n",
    "import s3fs\n",
    "\n",
    "endpoint_url = 'https://ncsa.osn.xsede.org'\n",
    "fs_osn = s3fs.S3FileSystem(anon=True, client_kwargs={'endpoint_url': endpoint_url},) # Data is on Pangeo - Amazon S3 cloud storage\n",
    "\n",
    "path = \"Pangeo/pangeo-forge/noaa_oisst/v2.1-avhrr.zarr\"\n",
    "ds = xr.open_zarr(fs_osn.get_mapper(path), consolidated=True)\n",
    "print(ds)"
   ]
  },
  {
   "cell_type": "code",
   "execution_count": 4,
   "id": "automated-money",
   "metadata": {
    "slideshow": {
     "slide_type": "slide"
    }
   },
   "outputs": [
    {
     "ename": "NameError",
     "evalue": "name 'plt' is not defined",
     "output_type": "error",
     "traceback": [
      "\u001b[0;31m---------------------------------------------------------------------------\u001b[0m",
      "\u001b[0;31mNameError\u001b[0m                                 Traceback (most recent call last)",
      "\u001b[0;32m/tmp/ipykernel_3379/2367621144.py\u001b[0m in \u001b[0;36m<module>\u001b[0;34m\u001b[0m\n\u001b[1;32m      4\u001b[0m \u001b[0mmask\u001b[0m \u001b[0;34m=\u001b[0m \u001b[0mmask\u001b[0m\u001b[0;34m.\u001b[0m\u001b[0mwhere\u001b[0m\u001b[0;34m(\u001b[0m\u001b[0mmask\u001b[0m\u001b[0;34m==\u001b[0m\u001b[0;36m1\u001b[0m\u001b[0;34m,\u001b[0m \u001b[0mother\u001b[0m \u001b[0;34m=\u001b[0m \u001b[0;36m0\u001b[0m\u001b[0;34m)\u001b[0m\u001b[0;34m\u001b[0m\u001b[0;34m\u001b[0m\u001b[0m\n\u001b[1;32m      5\u001b[0m \u001b[0;34m\u001b[0m\u001b[0m\n\u001b[0;32m----> 6\u001b[0;31m \u001b[0mplt\u001b[0m\u001b[0;34m.\u001b[0m\u001b[0mfigure\u001b[0m\u001b[0;34m(\u001b[0m\u001b[0mfigsize\u001b[0m\u001b[0;34m=\u001b[0m\u001b[0;34m(\u001b[0m\u001b[0;36m12\u001b[0m\u001b[0;34m,\u001b[0m\u001b[0;36m12\u001b[0m\u001b[0;34m)\u001b[0m\u001b[0;34m)\u001b[0m\u001b[0;34m\u001b[0m\u001b[0;34m\u001b[0m\u001b[0m\n\u001b[0m\u001b[1;32m      7\u001b[0m \u001b[0max\u001b[0m \u001b[0;34m=\u001b[0m \u001b[0mplt\u001b[0m\u001b[0;34m.\u001b[0m\u001b[0maxes\u001b[0m\u001b[0;34m(\u001b[0m\u001b[0mprojection\u001b[0m\u001b[0;34m=\u001b[0m\u001b[0mccrs\u001b[0m\u001b[0;34m.\u001b[0m\u001b[0mPlateCarree\u001b[0m\u001b[0;34m(\u001b[0m\u001b[0;34m)\u001b[0m\u001b[0;34m)\u001b[0m\u001b[0;34m\u001b[0m\u001b[0;34m\u001b[0m\u001b[0m\n\u001b[1;32m      8\u001b[0m \u001b[0mmask\u001b[0m\u001b[0;34m.\u001b[0m\u001b[0mplot\u001b[0m\u001b[0;34m(\u001b[0m\u001b[0mtransform\u001b[0m\u001b[0;34m=\u001b[0m\u001b[0mccrs\u001b[0m\u001b[0;34m.\u001b[0m\u001b[0mPlateCarree\u001b[0m\u001b[0;34m(\u001b[0m\u001b[0;34m)\u001b[0m\u001b[0;34m,\u001b[0m \u001b[0mvmin\u001b[0m\u001b[0;34m=\u001b[0m\u001b[0;36m0\u001b[0m\u001b[0;34m,\u001b[0m \u001b[0mvmax\u001b[0m\u001b[0;34m=\u001b[0m\u001b[0;36m1\u001b[0m\u001b[0;34m,\u001b[0m \u001b[0mcmap\u001b[0m\u001b[0;34m=\u001b[0m\u001b[0;34m'Greys_r'\u001b[0m\u001b[0;34m,\u001b[0m \u001b[0mextend\u001b[0m\u001b[0;34m=\u001b[0m\u001b[0;34m'max'\u001b[0m\u001b[0;34m,\u001b[0m \u001b[0madd_colorbar\u001b[0m\u001b[0;34m=\u001b[0m\u001b[0;32mFalse\u001b[0m\u001b[0;34m,\u001b[0m \u001b[0mlabel\u001b[0m\u001b[0;34m=\u001b[0m\u001b[0;32mFalse\u001b[0m\u001b[0;34m)\u001b[0m\u001b[0;34m\u001b[0m\u001b[0;34m\u001b[0m\u001b[0m\n",
      "\u001b[0;31mNameError\u001b[0m: name 'plt' is not defined"
     ]
    }
   ],
   "source": [
    "# Define a mask\n",
    "mask = ds.sst.isel(time=0, zlev=0).fillna(-999)\n",
    "mask = mask.where(mask==-999, other = 1)\n",
    "mask = mask.where(mask==1, other = 0)\n",
    "\n",
    "plt.figure(figsize=(12,12))\n",
    "ax = plt.axes(projection=ccrs.PlateCarree())\n",
    "mask.plot(transform=ccrs.PlateCarree(), vmin=0, vmax=1, cmap='Greys_r', extend='max', add_colorbar=False, label=False)\n",
    "ax.set_title('')\n",
    "ax.background_patch.set_visible(False)"
   ]
  }
 ],
 "metadata": {
  "kernelspec": {
   "display_name": "ocetrac-scipy-2021",
   "language": "python",
   "name": "ocetrac-scipy-2021"
  },
  "language_info": {
   "codemirror_mode": {
    "name": "ipython",
    "version": 3
   },
   "file_extension": ".py",
   "mimetype": "text/x-python",
   "name": "python",
   "nbconvert_exporter": "python",
   "pygments_lexer": "ipython3",
   "version": "3.8.10"
  }
 },
 "nbformat": 4,
 "nbformat_minor": 5
}
