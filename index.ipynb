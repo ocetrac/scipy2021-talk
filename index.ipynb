{
 "cells": [
  {
   "cell_type": "markdown",
   "id": "animal-boulder",
   "metadata": {
    "slideshow": {
     "slide_type": "slide"
    }
   },
   "source": [
    "<!-- background: #fff4e3-->\n",
    "<!-- color: #2d2422 -->\n",
    "<div align=\"center\">\n",
    "    <img src=\"./images/ocetrac_logo_transparent.png\" width=400/>\n",
    "    <h3><span style=\"font:tradegothic; color:gray\">morphological image processing for monitoring ocean temperature extremes</span></h3>\n",
    "    <hr>\n",
    "    <h2><span style=\"font:futura; color:purple\">Hillary Scannell<sup>1</sup></span><span style=\"font:futura; style=color:black\">, Luanne Thompson<sup>2</sup>, Daniel Whitt<sup>3</sup>, David John Gagne<sup>4</sup>, Ryan Abernathey<sup>1</sup> & Julius Busecke<sup>1</sup></span></h2>\n",
    "    <h6><sup>1</sup>Lamont-Doherty Earth Observatory, Columbia University, Palisades, NY, USA</h6>\n",
    "    <h6><sup>2</sup>School of Oceanography, University of Washington, Seattle, WA, USA</h6>\n",
    "    <h6><sup>3</sup>NASA Ames Research Center, Mountain View, CA, USA</h6>\n",
    "    <h6><sup>4</sup>National Center for Atmospheric Research, Boulder, CO, USA</h6>\n",
    "</div>\n"
   ]
  },
  {
   "cell_type": "markdown",
   "id": "ongoing-iceland",
   "metadata": {
    "slideshow": {
     "slide_type": "subslide"
    }
   },
   "source": [
    "<!-- background: #fff4e3-->\n",
    "<!-- color: #2d2422 -->\n",
    "\n",
    "<div align=\"center\">\n",
    "    <h3>Abstract</h3>\n",
    "</div>\n",
    "Dangerous hot-water events, called marine heatwaves, cause prolonged periods of thermal stress in the marine environment that can lead to widespread coral bleaching, harmful algal blooms, unproductive fisheries, and even economic loss. Anticipating the paths of destructive marine heatwaves remains a challenge owing to the complex spatiotemporal evolution of these events. We present a novel open source package called Ocetrac that implements morphological image processing and tracking to aid in the analysis of marine heatwave detection and movement. We discuss how this approach can be applied to monitor other extreme ocean conditions, such as deoxygenation and acidification.\n"
   ]
  },
  {
   "cell_type": "code",
   "execution_count": null,
   "id": "checked-amsterdam",
   "metadata": {
    "slideshow": {
     "slide_type": "skip"
    }
   },
   "outputs": [],
   "source": [
    "import cartopy.crs as ccrs\n",
    "import cartopy.feature as cfeature\n",
    "import numpy as np\n",
    "import matplotlib.pyplot as plt\n",
    "import s3fs\n",
    "import xarray as xr\n",
    "import scipy.ndimage\n",
    "from skimage.measure import regionprops \n",
    "from skimage.measure import label as label_np\n",
    "import dask.array as dsa"
   ]
  },
  {
   "cell_type": "code",
   "execution_count": null,
   "id": "powerful-mobility",
   "metadata": {
    "slideshow": {
     "slide_type": "slide"
    }
   },
   "outputs": [],
   "source": [
    "endpoint_url = 'https://ncsa.osn.xsede.org'\n",
    "fs_osn = s3fs.S3FileSystem(anon=True, client_kwargs={'endpoint_url': endpoint_url},)\n",
    "\n",
    "path = \"Pangeo/pangeo-forge/noaa_oisst/v2.1-avhrr.zarr\"\n",
    "ds = xr.open_zarr(fs_osn.get_mapper(path), consolidated=True)\n",
    "print(ds)"
   ]
  },
  {
   "cell_type": "code",
   "execution_count": null,
   "id": "packed-coordination",
   "metadata": {
    "slideshow": {
     "slide_type": "slide"
    }
   },
   "outputs": [],
   "source": [
    "# Define a mask\n",
    "mask = ds.sst.isel(time=0, zlev=0).fillna(-999)\n",
    "mask = mask.where(mask==-999, other = 1)\n",
    "mask = mask.where(mask==1, other = 0)\n",
    "\n",
    "plt.figure(figsize=(12,12))\n",
    "ax = plt.axes(projection=ccrs.PlateCarree())\n",
    "mask.plot(transform=ccrs.PlateCarree(), vmin=0, vmax=1, cmap='Greys_r', extend='max', add_colorbar=False, label=False)\n",
    "ax.set_title('')\n",
    "ax.background_patch.set_visible(False)"
   ]
  }
 ],
 "metadata": {
  "kernelspec": {
   "display_name": "Python [conda env:ocetrac-scipy-2021]",
   "language": "python",
   "name": "conda-env-ocetrac-scipy-2021-py"
  },
  "language_info": {
   "codemirror_mode": {
    "name": "ipython",
    "version": 3
   },
   "file_extension": ".py",
   "mimetype": "text/x-python",
   "name": "python",
   "nbconvert_exporter": "python",
   "pygments_lexer": "ipython3",
   "version": "3.8.10"
  }
 },
 "nbformat": 4,
 "nbformat_minor": 5
}
